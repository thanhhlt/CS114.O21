{
  "cells": [
    {
      "cell_type": "markdown",
      "metadata": {
        "id": "view-in-github",
        "colab_type": "text"
      },
      "source": [
        "<a href=\"https://colab.research.google.com/github/thanhhlt/CS114.O21/blob/main/Competition02/Train.ipynb\" target=\"_parent\"><img src=\"https://colab.research.google.com/assets/colab-badge.svg\" alt=\"Open In Colab\"/></a>"
      ]
    },
    {
      "cell_type": "code",
      "execution_count": 3,
      "metadata": {
        "id": "_mS4VgHMhUTS",
        "outputId": "30880dba-851a-4b66-9fed-eedbaad67db2",
        "colab": {
          "base_uri": "https://localhost:8080/"
        }
      },
      "outputs": [
        {
          "output_type": "stream",
          "name": "stdout",
          "text": [
            "Collecting catboost\n",
            "  Downloading catboost-1.2.5-cp310-cp310-manylinux2014_x86_64.whl (98.2 MB)\n",
            "\u001b[2K     \u001b[90m━━━━━━━━━━━━━━━━━━━━━━━━━━━━━━━━━━━━━━━━\u001b[0m \u001b[32m98.2/98.2 MB\u001b[0m \u001b[31m7.3 MB/s\u001b[0m eta \u001b[36m0:00:00\u001b[0m\n",
            "\u001b[?25hRequirement already satisfied: graphviz in /usr/local/lib/python3.10/dist-packages (from catboost) (0.20.3)\n",
            "Requirement already satisfied: matplotlib in /usr/local/lib/python3.10/dist-packages (from catboost) (3.7.1)\n",
            "Requirement already satisfied: numpy>=1.16.0 in /usr/local/lib/python3.10/dist-packages (from catboost) (1.25.2)\n",
            "Requirement already satisfied: pandas>=0.24 in /usr/local/lib/python3.10/dist-packages (from catboost) (2.0.3)\n",
            "Requirement already satisfied: scipy in /usr/local/lib/python3.10/dist-packages (from catboost) (1.11.4)\n",
            "Requirement already satisfied: plotly in /usr/local/lib/python3.10/dist-packages (from catboost) (5.15.0)\n",
            "Requirement already satisfied: six in /usr/local/lib/python3.10/dist-packages (from catboost) (1.16.0)\n",
            "Requirement already satisfied: python-dateutil>=2.8.2 in /usr/local/lib/python3.10/dist-packages (from pandas>=0.24->catboost) (2.8.2)\n",
            "Requirement already satisfied: pytz>=2020.1 in /usr/local/lib/python3.10/dist-packages (from pandas>=0.24->catboost) (2023.4)\n",
            "Requirement already satisfied: tzdata>=2022.1 in /usr/local/lib/python3.10/dist-packages (from pandas>=0.24->catboost) (2024.1)\n",
            "Requirement already satisfied: contourpy>=1.0.1 in /usr/local/lib/python3.10/dist-packages (from matplotlib->catboost) (1.2.1)\n",
            "Requirement already satisfied: cycler>=0.10 in /usr/local/lib/python3.10/dist-packages (from matplotlib->catboost) (0.12.1)\n",
            "Requirement already satisfied: fonttools>=4.22.0 in /usr/local/lib/python3.10/dist-packages (from matplotlib->catboost) (4.53.0)\n",
            "Requirement already satisfied: kiwisolver>=1.0.1 in /usr/local/lib/python3.10/dist-packages (from matplotlib->catboost) (1.4.5)\n",
            "Requirement already satisfied: packaging>=20.0 in /usr/local/lib/python3.10/dist-packages (from matplotlib->catboost) (24.1)\n",
            "Requirement already satisfied: pillow>=6.2.0 in /usr/local/lib/python3.10/dist-packages (from matplotlib->catboost) (9.4.0)\n",
            "Requirement already satisfied: pyparsing>=2.3.1 in /usr/local/lib/python3.10/dist-packages (from matplotlib->catboost) (3.1.2)\n",
            "Requirement already satisfied: tenacity>=6.2.0 in /usr/local/lib/python3.10/dist-packages (from plotly->catboost) (8.4.1)\n",
            "Installing collected packages: catboost\n",
            "Successfully installed catboost-1.2.5\n"
          ]
        }
      ],
      "source": [
        "!pip install catboost"
      ]
    },
    {
      "cell_type": "code",
      "execution_count": 5,
      "metadata": {
        "id": "lXTaP8CChUTT"
      },
      "outputs": [],
      "source": [
        "import numpy as np\n",
        "import pandas as pd\n",
        "from sklearn.model_selection import train_test_split\n",
        "from sklearn.preprocessing import StandardScaler\n",
        "from sklearn.model_selection import GridSearchCV\n",
        "from catboost import CatBoostRegressor"
      ]
    },
    {
      "cell_type": "code",
      "execution_count": 6,
      "metadata": {
        "id": "wWGZ6SH7hUTU"
      },
      "outputs": [],
      "source": [
        "# Chuẩn bị data train, validation\n",
        "def data_prep(type_score):\n",
        "    df = pd.read_csv('data/' + type_score + '/train.csv')\n",
        "    df = df.drop('username', axis=1)\n",
        "\n",
        "    X = df.drop(type_score, axis=1)\n",
        "    y = df[type_score]\n",
        "\n",
        "    # Scaler\n",
        "    X_scaled = StandardScaler().fit_transform(X).astype('float32')\n",
        "\n",
        "    # Chia thành các dataset\n",
        "    X_train, X_val, y_train, y_val = train_test_split(X_scaled, y, test_size=0.05)\n",
        "\n",
        "    return X_train, X_val, y_train, y_val"
      ]
    },
    {
      "cell_type": "code",
      "execution_count": 7,
      "metadata": {
        "id": "ot5QSyFihUTU"
      },
      "outputs": [],
      "source": [
        "# Dự đoán tập test và lưu kết quả\n",
        "def predict(model, type_score):\n",
        "    df_test = pd.read_csv('data/' + type_score + '/test.csv')\n",
        "\n",
        "    usernames = df_test['username']\n",
        "    X_test = df_test.drop('username', axis=1)\n",
        "    X_test = StandardScaler().fit_transform(X_test).astype('float32')\n",
        "\n",
        "    y_pred = model.predict(X_test)\n",
        "    tmp = pd.DataFrame(columns=[type_score], data=y_pred)\n",
        "\n",
        "    result = pd.concat([usernames, tmp], axis=1)\n",
        "    result.to_csv('data/' + type_score + '/' + type_score + '.csv', header=False, index=False)"
      ]
    },
    {
      "cell_type": "code",
      "execution_count": 8,
      "metadata": {
        "id": "TkarBL8VhUTV"
      },
      "outputs": [],
      "source": [
        "param_grid = {'learning_rate': np.logspace(-8, -1, 8), 'depth': np.arange(6, 8), 'l2_leaf_reg': np.arange(3, 5)}"
      ]
    },
    {
      "cell_type": "markdown",
      "metadata": {
        "id": "gMsCX_KmhUTV"
      },
      "source": [
        "### 1. TBTL"
      ]
    },
    {
      "cell_type": "code",
      "execution_count": 9,
      "metadata": {
        "id": "SqDw8hLzhUTW"
      },
      "outputs": [],
      "source": [
        "X_train, X_val, y_train, y_val = data_prep('TBTL')"
      ]
    },
    {
      "cell_type": "code",
      "execution_count": 13,
      "metadata": {
        "id": "z0f1629YhUTW",
        "outputId": "6a019170-43bb-44af-96d8-abaa368bc3c7",
        "colab": {
          "base_uri": "https://localhost:8080/",
          "height": 658
        }
      },
      "outputs": [
        {
          "output_type": "stream",
          "name": "stdout",
          "text": [
            "Fitting 5 folds for each of 32 candidates, totalling 160 fits\n"
          ]
        },
        {
          "output_type": "stream",
          "name": "stderr",
          "text": [
            "/usr/local/lib/python3.10/dist-packages/sklearn/model_selection/_validation.py:378: FitFailedWarning: \n",
            "40 fits failed out of a total of 160.\n",
            "The score on these train-test partitions for these parameters will be set to nan.\n",
            "If these failures are not expected, you can try to debug them by setting error_score='raise'.\n",
            "\n",
            "Below are more details about the failures:\n",
            "--------------------------------------------------------------------------------\n",
            "40 fits failed with the following error:\n",
            "Traceback (most recent call last):\n",
            "  File \"/usr/local/lib/python3.10/dist-packages/sklearn/model_selection/_validation.py\", line 686, in _fit_and_score\n",
            "    estimator.fit(X_train, y_train, **fit_params)\n",
            "  File \"/usr/local/lib/python3.10/dist-packages/catboost/core.py\", line 5827, in fit\n",
            "    return self._fit(X, y, cat_features, text_features, embedding_features, None, sample_weight, None, None, None, None, baseline,\n",
            "  File \"/usr/local/lib/python3.10/dist-packages/catboost/core.py\", line 2385, in _fit\n",
            "    train_params = self._prepare_train_params(\n",
            "  File \"/usr/local/lib/python3.10/dist-packages/catboost/core.py\", line 2311, in _prepare_train_params\n",
            "    _check_train_params(params)\n",
            "  File \"_catboost.pyx\", line 6393, in _catboost._check_train_params\n",
            "  File \"_catboost.pyx\", line 6415, in _catboost._check_train_params\n",
            "_catboost.CatBoostError: /src/catboost/catboost/private/libs/options/boosting_options.cpp:79: Learning rate should be non-zero\n",
            "\n",
            "  warnings.warn(some_fits_failed_message, FitFailedWarning)\n",
            "/usr/local/lib/python3.10/dist-packages/sklearn/model_selection/_search.py:952: UserWarning: One or more of the test scores are non-finite: [        nan         nan -0.01276407 -0.01247482 -0.00963993  0.01413609\n",
            "  0.09204032  0.02005354         nan         nan -0.01276544 -0.01248876\n",
            " -0.00977216  0.01309199  0.08947916  0.0182656          nan         nan\n",
            " -0.01276296 -0.01246441 -0.0095484   0.0149973   0.08842671  0.02485575\n",
            "         nan         nan -0.01276485 -0.01248241 -0.00971656  0.01356462\n",
            "  0.08656395  0.03345785]\n",
            "  warnings.warn(\n"
          ]
        },
        {
          "output_type": "execute_result",
          "data": {
            "text/plain": [
              "GridSearchCV(cv=5,\n",
              "             estimator=<catboost.core.CatBoostRegressor object at 0x7f98877920b0>,\n",
              "             param_grid={'depth': array([6, 7]), 'l2_leaf_reg': array([3, 4]),\n",
              "                         'learning_rate': array([1.e-08, 1.e-07, 1.e-06, 1.e-05, 1.e-04, 1.e-03, 1.e-02, 1.e-01])},\n",
              "             scoring='r2', verbose=1)"
            ],
            "text/html": [
              "<style>#sk-container-id-3 {color: black;background-color: white;}#sk-container-id-3 pre{padding: 0;}#sk-container-id-3 div.sk-toggleable {background-color: white;}#sk-container-id-3 label.sk-toggleable__label {cursor: pointer;display: block;width: 100%;margin-bottom: 0;padding: 0.3em;box-sizing: border-box;text-align: center;}#sk-container-id-3 label.sk-toggleable__label-arrow:before {content: \"▸\";float: left;margin-right: 0.25em;color: #696969;}#sk-container-id-3 label.sk-toggleable__label-arrow:hover:before {color: black;}#sk-container-id-3 div.sk-estimator:hover label.sk-toggleable__label-arrow:before {color: black;}#sk-container-id-3 div.sk-toggleable__content {max-height: 0;max-width: 0;overflow: hidden;text-align: left;background-color: #f0f8ff;}#sk-container-id-3 div.sk-toggleable__content pre {margin: 0.2em;color: black;border-radius: 0.25em;background-color: #f0f8ff;}#sk-container-id-3 input.sk-toggleable__control:checked~div.sk-toggleable__content {max-height: 200px;max-width: 100%;overflow: auto;}#sk-container-id-3 input.sk-toggleable__control:checked~label.sk-toggleable__label-arrow:before {content: \"▾\";}#sk-container-id-3 div.sk-estimator input.sk-toggleable__control:checked~label.sk-toggleable__label {background-color: #d4ebff;}#sk-container-id-3 div.sk-label input.sk-toggleable__control:checked~label.sk-toggleable__label {background-color: #d4ebff;}#sk-container-id-3 input.sk-hidden--visually {border: 0;clip: rect(1px 1px 1px 1px);clip: rect(1px, 1px, 1px, 1px);height: 1px;margin: -1px;overflow: hidden;padding: 0;position: absolute;width: 1px;}#sk-container-id-3 div.sk-estimator {font-family: monospace;background-color: #f0f8ff;border: 1px dotted black;border-radius: 0.25em;box-sizing: border-box;margin-bottom: 0.5em;}#sk-container-id-3 div.sk-estimator:hover {background-color: #d4ebff;}#sk-container-id-3 div.sk-parallel-item::after {content: \"\";width: 100%;border-bottom: 1px solid gray;flex-grow: 1;}#sk-container-id-3 div.sk-label:hover label.sk-toggleable__label {background-color: #d4ebff;}#sk-container-id-3 div.sk-serial::before {content: \"\";position: absolute;border-left: 1px solid gray;box-sizing: border-box;top: 0;bottom: 0;left: 50%;z-index: 0;}#sk-container-id-3 div.sk-serial {display: flex;flex-direction: column;align-items: center;background-color: white;padding-right: 0.2em;padding-left: 0.2em;position: relative;}#sk-container-id-3 div.sk-item {position: relative;z-index: 1;}#sk-container-id-3 div.sk-parallel {display: flex;align-items: stretch;justify-content: center;background-color: white;position: relative;}#sk-container-id-3 div.sk-item::before, #sk-container-id-3 div.sk-parallel-item::before {content: \"\";position: absolute;border-left: 1px solid gray;box-sizing: border-box;top: 0;bottom: 0;left: 50%;z-index: -1;}#sk-container-id-3 div.sk-parallel-item {display: flex;flex-direction: column;z-index: 1;position: relative;background-color: white;}#sk-container-id-3 div.sk-parallel-item:first-child::after {align-self: flex-end;width: 50%;}#sk-container-id-3 div.sk-parallel-item:last-child::after {align-self: flex-start;width: 50%;}#sk-container-id-3 div.sk-parallel-item:only-child::after {width: 0;}#sk-container-id-3 div.sk-dashed-wrapped {border: 1px dashed gray;margin: 0 0.4em 0.5em 0.4em;box-sizing: border-box;padding-bottom: 0.4em;background-color: white;}#sk-container-id-3 div.sk-label label {font-family: monospace;font-weight: bold;display: inline-block;line-height: 1.2em;}#sk-container-id-3 div.sk-label-container {text-align: center;}#sk-container-id-3 div.sk-container {/* jupyter's `normalize.less` sets `[hidden] { display: none; }` but bootstrap.min.css set `[hidden] { display: none !important; }` so we also need the `!important` here to be able to override the default hidden behavior on the sphinx rendered scikit-learn.org. See: https://github.com/scikit-learn/scikit-learn/issues/21755 */display: inline-block !important;position: relative;}#sk-container-id-3 div.sk-text-repr-fallback {display: none;}</style><div id=\"sk-container-id-3\" class=\"sk-top-container\"><div class=\"sk-text-repr-fallback\"><pre>GridSearchCV(cv=5,\n",
              "             estimator=&lt;catboost.core.CatBoostRegressor object at 0x7f98877920b0&gt;,\n",
              "             param_grid={&#x27;depth&#x27;: array([6, 7]), &#x27;l2_leaf_reg&#x27;: array([3, 4]),\n",
              "                         &#x27;learning_rate&#x27;: array([1.e-08, 1.e-07, 1.e-06, 1.e-05, 1.e-04, 1.e-03, 1.e-02, 1.e-01])},\n",
              "             scoring=&#x27;r2&#x27;, verbose=1)</pre><b>In a Jupyter environment, please rerun this cell to show the HTML representation or trust the notebook. <br />On GitHub, the HTML representation is unable to render, please try loading this page with nbviewer.org.</b></div><div class=\"sk-container\" hidden><div class=\"sk-item sk-dashed-wrapped\"><div class=\"sk-label-container\"><div class=\"sk-label sk-toggleable\"><input class=\"sk-toggleable__control sk-hidden--visually\" id=\"sk-estimator-id-7\" type=\"checkbox\" ><label for=\"sk-estimator-id-7\" class=\"sk-toggleable__label sk-toggleable__label-arrow\">GridSearchCV</label><div class=\"sk-toggleable__content\"><pre>GridSearchCV(cv=5,\n",
              "             estimator=&lt;catboost.core.CatBoostRegressor object at 0x7f98877920b0&gt;,\n",
              "             param_grid={&#x27;depth&#x27;: array([6, 7]), &#x27;l2_leaf_reg&#x27;: array([3, 4]),\n",
              "                         &#x27;learning_rate&#x27;: array([1.e-08, 1.e-07, 1.e-06, 1.e-05, 1.e-04, 1.e-03, 1.e-02, 1.e-01])},\n",
              "             scoring=&#x27;r2&#x27;, verbose=1)</pre></div></div></div><div class=\"sk-parallel\"><div class=\"sk-parallel-item\"><div class=\"sk-item\"><div class=\"sk-label-container\"><div class=\"sk-label sk-toggleable\"><input class=\"sk-toggleable__control sk-hidden--visually\" id=\"sk-estimator-id-8\" type=\"checkbox\" ><label for=\"sk-estimator-id-8\" class=\"sk-toggleable__label sk-toggleable__label-arrow\">estimator: CatBoostRegressor</label><div class=\"sk-toggleable__content\"><pre>&lt;catboost.core.CatBoostRegressor object at 0x7f98877920b0&gt;</pre></div></div></div><div class=\"sk-serial\"><div class=\"sk-item\"><div class=\"sk-estimator sk-toggleable\"><input class=\"sk-toggleable__control sk-hidden--visually\" id=\"sk-estimator-id-9\" type=\"checkbox\" ><label for=\"sk-estimator-id-9\" class=\"sk-toggleable__label sk-toggleable__label-arrow\">CatBoostRegressor</label><div class=\"sk-toggleable__content\"><pre>&lt;catboost.core.CatBoostRegressor object at 0x7f98877920b0&gt;</pre></div></div></div></div></div></div></div></div></div></div>"
            ]
          },
          "metadata": {},
          "execution_count": 13
        }
      ],
      "source": [
        "# Hyperparameter tuning với GridSearchCV\n",
        "model = CatBoostRegressor(iterations=400, task_type='GPU', verbose=False)\n",
        "GS = GridSearchCV(model, param_grid=param_grid, cv=5, scoring='r2', verbose=1)\n",
        "GS.fit(X_train, y_train)"
      ]
    },
    {
      "cell_type": "code",
      "execution_count": 14,
      "metadata": {
        "id": "SwQrpNUVhUTX",
        "outputId": "02dc75c7-228d-4ac7-cc29-a5aa9d5bc613",
        "colab": {
          "base_uri": "https://localhost:8080/"
        }
      },
      "outputs": [
        {
          "output_type": "execute_result",
          "data": {
            "text/plain": [
              "{'depth': 6, 'l2_leaf_reg': 3, 'learning_rate': 0.01}"
            ]
          },
          "metadata": {},
          "execution_count": 14
        }
      ],
      "source": [
        "# Bộ hyerparameter tốt nhất\n",
        "best_params = GS.best_params_\n",
        "best_params"
      ]
    },
    {
      "cell_type": "code",
      "execution_count": 15,
      "metadata": {
        "id": "OEewKM5fhUTX",
        "outputId": "f8ce0ff7-7b6f-4e35-a1c2-28c8b1c2eb94",
        "colab": {
          "base_uri": "https://localhost:8080/"
        }
      },
      "outputs": [
        {
          "output_type": "stream",
          "name": "stderr",
          "text": [
            "Default metric period is 5 because R2 is/are not implemented for GPU\n",
            "Metric R2 is not implemented on GPU. Will use CPU for metric computation, this could significantly affect learning time\n"
          ]
        },
        {
          "output_type": "stream",
          "name": "stdout",
          "text": [
            "0:\tlearn: 0.0013204\ttest: -0.0156747\tbest: -0.0156747 (0)\ttotal: 16.6ms\tremaining: 2m 45s\n",
            "100:\tlearn: 0.1347560\ttest: 0.0930619\tbest: 0.0930619 (100)\ttotal: 1.12s\tremaining: 1m 50s\n",
            "200:\tlearn: 0.2087738\ttest: 0.1309405\tbest: 0.1309405 (200)\ttotal: 2.04s\tremaining: 1m 39s\n",
            "300:\tlearn: 0.2688599\ttest: 0.1546094\tbest: 0.1549611 (295)\ttotal: 3.6s\tremaining: 1m 56s\n",
            "400:\tlearn: 0.3139001\ttest: 0.1588005\tbest: 0.1621022 (362)\ttotal: 5.8s\tremaining: 2m 18s\n",
            "500:\tlearn: 0.3483726\ttest: 0.1617042\tbest: 0.1661556 (456)\ttotal: 8.13s\tremaining: 2m 34s\n",
            "600:\tlearn: 0.3801129\ttest: 0.1726449\tbest: 0.1744042 (561)\ttotal: 9.05s\tremaining: 2m 21s\n",
            "700:\tlearn: 0.4096555\ttest: 0.1657019\tbest: 0.1744042 (561)\ttotal: 9.97s\tremaining: 2m 12s\n",
            "800:\tlearn: 0.4384693\ttest: 0.1608025\tbest: 0.1744042 (561)\ttotal: 10.9s\tremaining: 2m 5s\n",
            "900:\tlearn: 0.4633266\ttest: 0.1492840\tbest: 0.1744042 (561)\ttotal: 11.9s\tremaining: 1m 59s\n",
            "1000:\tlearn: 0.4847625\ttest: 0.1356217\tbest: 0.1744042 (561)\ttotal: 12.8s\tremaining: 1m 55s\n",
            "1100:\tlearn: 0.5089021\ttest: 0.1272690\tbest: 0.1744042 (561)\ttotal: 13.8s\tremaining: 1m 51s\n",
            "1200:\tlearn: 0.5279867\ttest: 0.1196991\tbest: 0.1744042 (561)\ttotal: 14.7s\tremaining: 1m 47s\n",
            "1300:\tlearn: 0.5459251\ttest: 0.1128203\tbest: 0.1744042 (561)\ttotal: 15.6s\tremaining: 1m 44s\n",
            "1400:\tlearn: 0.5624580\ttest: 0.1072830\tbest: 0.1744042 (561)\ttotal: 16.6s\tremaining: 1m 41s\n",
            "1500:\tlearn: 0.5753084\ttest: 0.1000520\tbest: 0.1744042 (561)\ttotal: 17.5s\tremaining: 1m 39s\n",
            "bestTest = 0.1744041799\n",
            "bestIteration = 561\n",
            "Shrink model to first 562 iterations.\n"
          ]
        },
        {
          "output_type": "execute_result",
          "data": {
            "text/plain": [
              "<catboost.core.CatBoostRegressor at 0x7f98a04cb730>"
            ]
          },
          "metadata": {},
          "execution_count": 15
        }
      ],
      "source": [
        "# Train lại với iterations cao hơn\n",
        "model = CatBoostRegressor(iterations=10000,\n",
        "                          learning_rate=best_params['learning_rate'],\n",
        "                          depth=best_params['depth'],\n",
        "                          l2_leaf_reg=best_params['l2_leaf_reg'],\n",
        "                          eval_metric='R2', early_stopping_rounds=1000,\n",
        "                          verbose=100, task_type='GPU')\n",
        "model.fit(X_train, y_train, eval_set=(X_val, y_val))"
      ]
    },
    {
      "cell_type": "code",
      "execution_count": 16,
      "metadata": {
        "id": "dkwz_iDfhUTY"
      },
      "outputs": [],
      "source": [
        "predict(model, 'TBTL')"
      ]
    },
    {
      "cell_type": "markdown",
      "metadata": {
        "id": "A3OVMm4QhUTY"
      },
      "source": [
        "### 2. TH"
      ]
    },
    {
      "cell_type": "code",
      "execution_count": 17,
      "metadata": {
        "id": "s86v0hX3hUTY"
      },
      "outputs": [],
      "source": [
        "X_train, X_val, y_train, y_val = data_prep('TH')"
      ]
    },
    {
      "cell_type": "code",
      "execution_count": 18,
      "metadata": {
        "id": "kznbxdJVhUTY",
        "outputId": "28c03e43-1c16-406b-da49-a0543f2e28ef",
        "colab": {
          "base_uri": "https://localhost:8080/",
          "height": 658
        }
      },
      "outputs": [
        {
          "output_type": "stream",
          "name": "stdout",
          "text": [
            "Fitting 5 folds for each of 32 candidates, totalling 160 fits\n"
          ]
        },
        {
          "output_type": "stream",
          "name": "stderr",
          "text": [
            "/usr/local/lib/python3.10/dist-packages/sklearn/model_selection/_validation.py:378: FitFailedWarning: \n",
            "40 fits failed out of a total of 160.\n",
            "The score on these train-test partitions for these parameters will be set to nan.\n",
            "If these failures are not expected, you can try to debug them by setting error_score='raise'.\n",
            "\n",
            "Below are more details about the failures:\n",
            "--------------------------------------------------------------------------------\n",
            "40 fits failed with the following error:\n",
            "Traceback (most recent call last):\n",
            "  File \"/usr/local/lib/python3.10/dist-packages/sklearn/model_selection/_validation.py\", line 686, in _fit_and_score\n",
            "    estimator.fit(X_train, y_train, **fit_params)\n",
            "  File \"/usr/local/lib/python3.10/dist-packages/catboost/core.py\", line 5827, in fit\n",
            "    return self._fit(X, y, cat_features, text_features, embedding_features, None, sample_weight, None, None, None, None, baseline,\n",
            "  File \"/usr/local/lib/python3.10/dist-packages/catboost/core.py\", line 2385, in _fit\n",
            "    train_params = self._prepare_train_params(\n",
            "  File \"/usr/local/lib/python3.10/dist-packages/catboost/core.py\", line 2311, in _prepare_train_params\n",
            "    _check_train_params(params)\n",
            "  File \"_catboost.pyx\", line 6393, in _catboost._check_train_params\n",
            "  File \"_catboost.pyx\", line 6415, in _catboost._check_train_params\n",
            "_catboost.CatBoostError: /src/catboost/catboost/private/libs/options/boosting_options.cpp:79: Learning rate should be non-zero\n",
            "\n",
            "  warnings.warn(some_fits_failed_message, FitFailedWarning)\n",
            "/usr/local/lib/python3.10/dist-packages/sklearn/model_selection/_search.py:952: UserWarning: One or more of the test scores are non-finite: [        nan         nan -0.01498587 -0.01381673 -0.00247205  0.08305318\n",
            "  0.25306685  0.26252321         nan         nan -0.01499043 -0.01386143\n",
            " -0.00290955  0.08031001  0.2518123   0.26495402         nan         nan\n",
            " -0.0149895  -0.01385087 -0.00280381  0.08127477  0.25335497  0.26530742\n",
            "         nan         nan -0.01499495 -0.01390687 -0.00331192  0.07786125\n",
            "  0.24976431  0.26264899]\n",
            "  warnings.warn(\n"
          ]
        },
        {
          "output_type": "execute_result",
          "data": {
            "text/plain": [
              "GridSearchCV(cv=5,\n",
              "             estimator=<catboost.core.CatBoostRegressor object at 0x7f98877914b0>,\n",
              "             param_grid={'depth': array([6, 7]), 'l2_leaf_reg': array([3, 4]),\n",
              "                         'learning_rate': array([1.e-08, 1.e-07, 1.e-06, 1.e-05, 1.e-04, 1.e-03, 1.e-02, 1.e-01])},\n",
              "             scoring='r2', verbose=1)"
            ],
            "text/html": [
              "<style>#sk-container-id-4 {color: black;background-color: white;}#sk-container-id-4 pre{padding: 0;}#sk-container-id-4 div.sk-toggleable {background-color: white;}#sk-container-id-4 label.sk-toggleable__label {cursor: pointer;display: block;width: 100%;margin-bottom: 0;padding: 0.3em;box-sizing: border-box;text-align: center;}#sk-container-id-4 label.sk-toggleable__label-arrow:before {content: \"▸\";float: left;margin-right: 0.25em;color: #696969;}#sk-container-id-4 label.sk-toggleable__label-arrow:hover:before {color: black;}#sk-container-id-4 div.sk-estimator:hover label.sk-toggleable__label-arrow:before {color: black;}#sk-container-id-4 div.sk-toggleable__content {max-height: 0;max-width: 0;overflow: hidden;text-align: left;background-color: #f0f8ff;}#sk-container-id-4 div.sk-toggleable__content pre {margin: 0.2em;color: black;border-radius: 0.25em;background-color: #f0f8ff;}#sk-container-id-4 input.sk-toggleable__control:checked~div.sk-toggleable__content {max-height: 200px;max-width: 100%;overflow: auto;}#sk-container-id-4 input.sk-toggleable__control:checked~label.sk-toggleable__label-arrow:before {content: \"▾\";}#sk-container-id-4 div.sk-estimator input.sk-toggleable__control:checked~label.sk-toggleable__label {background-color: #d4ebff;}#sk-container-id-4 div.sk-label input.sk-toggleable__control:checked~label.sk-toggleable__label {background-color: #d4ebff;}#sk-container-id-4 input.sk-hidden--visually {border: 0;clip: rect(1px 1px 1px 1px);clip: rect(1px, 1px, 1px, 1px);height: 1px;margin: -1px;overflow: hidden;padding: 0;position: absolute;width: 1px;}#sk-container-id-4 div.sk-estimator {font-family: monospace;background-color: #f0f8ff;border: 1px dotted black;border-radius: 0.25em;box-sizing: border-box;margin-bottom: 0.5em;}#sk-container-id-4 div.sk-estimator:hover {background-color: #d4ebff;}#sk-container-id-4 div.sk-parallel-item::after {content: \"\";width: 100%;border-bottom: 1px solid gray;flex-grow: 1;}#sk-container-id-4 div.sk-label:hover label.sk-toggleable__label {background-color: #d4ebff;}#sk-container-id-4 div.sk-serial::before {content: \"\";position: absolute;border-left: 1px solid gray;box-sizing: border-box;top: 0;bottom: 0;left: 50%;z-index: 0;}#sk-container-id-4 div.sk-serial {display: flex;flex-direction: column;align-items: center;background-color: white;padding-right: 0.2em;padding-left: 0.2em;position: relative;}#sk-container-id-4 div.sk-item {position: relative;z-index: 1;}#sk-container-id-4 div.sk-parallel {display: flex;align-items: stretch;justify-content: center;background-color: white;position: relative;}#sk-container-id-4 div.sk-item::before, #sk-container-id-4 div.sk-parallel-item::before {content: \"\";position: absolute;border-left: 1px solid gray;box-sizing: border-box;top: 0;bottom: 0;left: 50%;z-index: -1;}#sk-container-id-4 div.sk-parallel-item {display: flex;flex-direction: column;z-index: 1;position: relative;background-color: white;}#sk-container-id-4 div.sk-parallel-item:first-child::after {align-self: flex-end;width: 50%;}#sk-container-id-4 div.sk-parallel-item:last-child::after {align-self: flex-start;width: 50%;}#sk-container-id-4 div.sk-parallel-item:only-child::after {width: 0;}#sk-container-id-4 div.sk-dashed-wrapped {border: 1px dashed gray;margin: 0 0.4em 0.5em 0.4em;box-sizing: border-box;padding-bottom: 0.4em;background-color: white;}#sk-container-id-4 div.sk-label label {font-family: monospace;font-weight: bold;display: inline-block;line-height: 1.2em;}#sk-container-id-4 div.sk-label-container {text-align: center;}#sk-container-id-4 div.sk-container {/* jupyter's `normalize.less` sets `[hidden] { display: none; }` but bootstrap.min.css set `[hidden] { display: none !important; }` so we also need the `!important` here to be able to override the default hidden behavior on the sphinx rendered scikit-learn.org. See: https://github.com/scikit-learn/scikit-learn/issues/21755 */display: inline-block !important;position: relative;}#sk-container-id-4 div.sk-text-repr-fallback {display: none;}</style><div id=\"sk-container-id-4\" class=\"sk-top-container\"><div class=\"sk-text-repr-fallback\"><pre>GridSearchCV(cv=5,\n",
              "             estimator=&lt;catboost.core.CatBoostRegressor object at 0x7f98877914b0&gt;,\n",
              "             param_grid={&#x27;depth&#x27;: array([6, 7]), &#x27;l2_leaf_reg&#x27;: array([3, 4]),\n",
              "                         &#x27;learning_rate&#x27;: array([1.e-08, 1.e-07, 1.e-06, 1.e-05, 1.e-04, 1.e-03, 1.e-02, 1.e-01])},\n",
              "             scoring=&#x27;r2&#x27;, verbose=1)</pre><b>In a Jupyter environment, please rerun this cell to show the HTML representation or trust the notebook. <br />On GitHub, the HTML representation is unable to render, please try loading this page with nbviewer.org.</b></div><div class=\"sk-container\" hidden><div class=\"sk-item sk-dashed-wrapped\"><div class=\"sk-label-container\"><div class=\"sk-label sk-toggleable\"><input class=\"sk-toggleable__control sk-hidden--visually\" id=\"sk-estimator-id-10\" type=\"checkbox\" ><label for=\"sk-estimator-id-10\" class=\"sk-toggleable__label sk-toggleable__label-arrow\">GridSearchCV</label><div class=\"sk-toggleable__content\"><pre>GridSearchCV(cv=5,\n",
              "             estimator=&lt;catboost.core.CatBoostRegressor object at 0x7f98877914b0&gt;,\n",
              "             param_grid={&#x27;depth&#x27;: array([6, 7]), &#x27;l2_leaf_reg&#x27;: array([3, 4]),\n",
              "                         &#x27;learning_rate&#x27;: array([1.e-08, 1.e-07, 1.e-06, 1.e-05, 1.e-04, 1.e-03, 1.e-02, 1.e-01])},\n",
              "             scoring=&#x27;r2&#x27;, verbose=1)</pre></div></div></div><div class=\"sk-parallel\"><div class=\"sk-parallel-item\"><div class=\"sk-item\"><div class=\"sk-label-container\"><div class=\"sk-label sk-toggleable\"><input class=\"sk-toggleable__control sk-hidden--visually\" id=\"sk-estimator-id-11\" type=\"checkbox\" ><label for=\"sk-estimator-id-11\" class=\"sk-toggleable__label sk-toggleable__label-arrow\">estimator: CatBoostRegressor</label><div class=\"sk-toggleable__content\"><pre>&lt;catboost.core.CatBoostRegressor object at 0x7f98877914b0&gt;</pre></div></div></div><div class=\"sk-serial\"><div class=\"sk-item\"><div class=\"sk-estimator sk-toggleable\"><input class=\"sk-toggleable__control sk-hidden--visually\" id=\"sk-estimator-id-12\" type=\"checkbox\" ><label for=\"sk-estimator-id-12\" class=\"sk-toggleable__label sk-toggleable__label-arrow\">CatBoostRegressor</label><div class=\"sk-toggleable__content\"><pre>&lt;catboost.core.CatBoostRegressor object at 0x7f98877914b0&gt;</pre></div></div></div></div></div></div></div></div></div></div>"
            ]
          },
          "metadata": {},
          "execution_count": 18
        }
      ],
      "source": [
        "model = CatBoostRegressor(iterations=400, verbose=False, task_type='GPU')\n",
        "GS = GridSearchCV(model, param_grid=param_grid, cv=5, scoring='r2', verbose=1)\n",
        "GS.fit(X_train, y_train)"
      ]
    },
    {
      "cell_type": "code",
      "execution_count": 19,
      "metadata": {
        "id": "E8IMCD34hUTZ",
        "outputId": "27ef9a54-1c16-4dd8-a06e-c847c9763510",
        "colab": {
          "base_uri": "https://localhost:8080/"
        }
      },
      "outputs": [
        {
          "output_type": "execute_result",
          "data": {
            "text/plain": [
              "{'depth': 7, 'l2_leaf_reg': 3, 'learning_rate': 0.09999999999999999}"
            ]
          },
          "metadata": {},
          "execution_count": 19
        }
      ],
      "source": [
        "best_params = GS.best_params_\n",
        "best_params"
      ]
    },
    {
      "cell_type": "code",
      "execution_count": 20,
      "metadata": {
        "id": "_VW9x6HKhUTZ",
        "outputId": "4940baf4-d767-45ea-c3cb-8bf907a23563",
        "colab": {
          "base_uri": "https://localhost:8080/"
        }
      },
      "outputs": [
        {
          "output_type": "stream",
          "name": "stderr",
          "text": [
            "Default metric period is 5 because R2 is/are not implemented for GPU\n",
            "Metric R2 is not implemented on GPU. Will use CPU for metric computation, this could significantly affect learning time\n"
          ]
        },
        {
          "output_type": "stream",
          "name": "stdout",
          "text": [
            "0:\tlearn: 0.0470211\ttest: -0.0129980\tbest: -0.0129980 (0)\ttotal: 25.9ms\tremaining: 4m 19s\n",
            "100:\tlearn: 0.6487270\ttest: 0.2321955\tbest: 0.2323326 (95)\ttotal: 1.54s\tremaining: 2m 31s\n",
            "200:\tlearn: 0.7717937\ttest: 0.2490878\tbest: 0.2515074 (194)\ttotal: 3.64s\tremaining: 2m 57s\n",
            "300:\tlearn: 0.8223239\ttest: 0.2649641\tbest: 0.2687124 (287)\ttotal: 5.8s\tremaining: 3m 7s\n",
            "400:\tlearn: 0.8596799\ttest: 0.2656056\tbest: 0.2690517 (359)\ttotal: 7.71s\tremaining: 3m 4s\n",
            "500:\tlearn: 0.8833988\ttest: 0.2488453\tbest: 0.2690517 (359)\ttotal: 9.07s\tremaining: 2m 52s\n",
            "600:\tlearn: 0.8961306\ttest: 0.2339485\tbest: 0.2690517 (359)\ttotal: 10.4s\tremaining: 2m 42s\n",
            "700:\tlearn: 0.9084778\ttest: 0.2291392\tbest: 0.2690517 (359)\ttotal: 11.7s\tremaining: 2m 35s\n",
            "800:\tlearn: 0.9164366\ttest: 0.2176992\tbest: 0.2690517 (359)\ttotal: 13s\tremaining: 2m 29s\n",
            "900:\tlearn: 0.9237798\ttest: 0.2127016\tbest: 0.2690517 (359)\ttotal: 14.4s\tremaining: 2m 24s\n",
            "1000:\tlearn: 0.9288357\ttest: 0.2055239\tbest: 0.2690517 (359)\ttotal: 15.7s\tremaining: 2m 21s\n",
            "1100:\tlearn: 0.9339318\ttest: 0.2061518\tbest: 0.2690517 (359)\ttotal: 17s\tremaining: 2m 17s\n",
            "1200:\tlearn: 0.9386199\ttest: 0.1995492\tbest: 0.2690517 (359)\ttotal: 19.7s\tremaining: 2m 24s\n",
            "1300:\tlearn: 0.9425620\ttest: 0.1997206\tbest: 0.2690517 (359)\ttotal: 22.6s\tremaining: 2m 31s\n",
            "bestTest = 0.2690517034\n",
            "bestIteration = 359\n",
            "Shrink model to first 360 iterations.\n"
          ]
        },
        {
          "output_type": "execute_result",
          "data": {
            "text/plain": [
              "<catboost.core.CatBoostRegressor at 0x7f98a04cb280>"
            ]
          },
          "metadata": {},
          "execution_count": 20
        }
      ],
      "source": [
        "model = CatBoostRegressor(iterations=10000,\n",
        "                          learning_rate=best_params['learning_rate'],\n",
        "                          depth=best_params['depth'],\n",
        "                          l2_leaf_reg=best_params['l2_leaf_reg'],\n",
        "                          eval_metric='R2', early_stopping_rounds=1000,\n",
        "                          verbose=100, task_type='GPU')\n",
        "model.fit(X_train, y_train, eval_set=(X_val, y_val))"
      ]
    },
    {
      "cell_type": "code",
      "execution_count": 21,
      "metadata": {
        "id": "MAPJ4tW6hUTZ"
      },
      "outputs": [],
      "source": [
        "predict(model, 'TH')"
      ]
    },
    {
      "cell_type": "markdown",
      "metadata": {
        "id": "Zp2D-cjHhUTZ"
      },
      "source": [
        "### 3. QT"
      ]
    },
    {
      "cell_type": "code",
      "execution_count": 23,
      "metadata": {
        "id": "_1_L6chOhUTZ"
      },
      "outputs": [],
      "source": [
        "X_train, X_val, y_train, y_val = data_prep('QT')"
      ]
    },
    {
      "cell_type": "code",
      "execution_count": 24,
      "metadata": {
        "id": "amOXqrpzhUTa",
        "outputId": "b64589e1-c5ef-4866-9f4b-ad20553eb5f4",
        "colab": {
          "base_uri": "https://localhost:8080/",
          "height": 658
        }
      },
      "outputs": [
        {
          "output_type": "stream",
          "name": "stdout",
          "text": [
            "Fitting 5 folds for each of 32 candidates, totalling 160 fits\n"
          ]
        },
        {
          "output_type": "stream",
          "name": "stderr",
          "text": [
            "/usr/local/lib/python3.10/dist-packages/sklearn/model_selection/_validation.py:378: FitFailedWarning: \n",
            "40 fits failed out of a total of 160.\n",
            "The score on these train-test partitions for these parameters will be set to nan.\n",
            "If these failures are not expected, you can try to debug them by setting error_score='raise'.\n",
            "\n",
            "Below are more details about the failures:\n",
            "--------------------------------------------------------------------------------\n",
            "40 fits failed with the following error:\n",
            "Traceback (most recent call last):\n",
            "  File \"/usr/local/lib/python3.10/dist-packages/sklearn/model_selection/_validation.py\", line 686, in _fit_and_score\n",
            "    estimator.fit(X_train, y_train, **fit_params)\n",
            "  File \"/usr/local/lib/python3.10/dist-packages/catboost/core.py\", line 5827, in fit\n",
            "    return self._fit(X, y, cat_features, text_features, embedding_features, None, sample_weight, None, None, None, None, baseline,\n",
            "  File \"/usr/local/lib/python3.10/dist-packages/catboost/core.py\", line 2385, in _fit\n",
            "    train_params = self._prepare_train_params(\n",
            "  File \"/usr/local/lib/python3.10/dist-packages/catboost/core.py\", line 2311, in _prepare_train_params\n",
            "    _check_train_params(params)\n",
            "  File \"_catboost.pyx\", line 6393, in _catboost._check_train_params\n",
            "  File \"_catboost.pyx\", line 6415, in _catboost._check_train_params\n",
            "_catboost.CatBoostError: /src/catboost/catboost/private/libs/options/boosting_options.cpp:79: Learning rate should be non-zero\n",
            "\n",
            "  warnings.warn(some_fits_failed_message, FitFailedWarning)\n",
            "/usr/local/lib/python3.10/dist-packages/sklearn/model_selection/_search.py:952: UserWarning: One or more of the test scores are non-finite: [        nan         nan -0.00091558 -0.00058737  0.00262521  0.02978809\n",
            "  0.12502232  0.11302589         nan         nan -0.00091876 -0.00061812\n",
            "  0.0023381   0.02743769  0.11995351  0.10697973         nan         nan\n",
            " -0.00091531 -0.00058386  0.00267867  0.03036415  0.13045628  0.11533942\n",
            "         nan         nan -0.00091828 -0.00061293  0.00238243  0.02862194\n",
            "  0.12876012  0.1323182 ]\n",
            "  warnings.warn(\n"
          ]
        },
        {
          "output_type": "execute_result",
          "data": {
            "text/plain": [
              "GridSearchCV(cv=5,\n",
              "             estimator=<catboost.core.CatBoostRegressor object at 0x7f9887792770>,\n",
              "             param_grid={'depth': array([6, 7]), 'l2_leaf_reg': array([3, 4]),\n",
              "                         'learning_rate': array([1.e-08, 1.e-07, 1.e-06, 1.e-05, 1.e-04, 1.e-03, 1.e-02, 1.e-01])},\n",
              "             scoring='r2', verbose=1)"
            ],
            "text/html": [
              "<style>#sk-container-id-5 {color: black;background-color: white;}#sk-container-id-5 pre{padding: 0;}#sk-container-id-5 div.sk-toggleable {background-color: white;}#sk-container-id-5 label.sk-toggleable__label {cursor: pointer;display: block;width: 100%;margin-bottom: 0;padding: 0.3em;box-sizing: border-box;text-align: center;}#sk-container-id-5 label.sk-toggleable__label-arrow:before {content: \"▸\";float: left;margin-right: 0.25em;color: #696969;}#sk-container-id-5 label.sk-toggleable__label-arrow:hover:before {color: black;}#sk-container-id-5 div.sk-estimator:hover label.sk-toggleable__label-arrow:before {color: black;}#sk-container-id-5 div.sk-toggleable__content {max-height: 0;max-width: 0;overflow: hidden;text-align: left;background-color: #f0f8ff;}#sk-container-id-5 div.sk-toggleable__content pre {margin: 0.2em;color: black;border-radius: 0.25em;background-color: #f0f8ff;}#sk-container-id-5 input.sk-toggleable__control:checked~div.sk-toggleable__content {max-height: 200px;max-width: 100%;overflow: auto;}#sk-container-id-5 input.sk-toggleable__control:checked~label.sk-toggleable__label-arrow:before {content: \"▾\";}#sk-container-id-5 div.sk-estimator input.sk-toggleable__control:checked~label.sk-toggleable__label {background-color: #d4ebff;}#sk-container-id-5 div.sk-label input.sk-toggleable__control:checked~label.sk-toggleable__label {background-color: #d4ebff;}#sk-container-id-5 input.sk-hidden--visually {border: 0;clip: rect(1px 1px 1px 1px);clip: rect(1px, 1px, 1px, 1px);height: 1px;margin: -1px;overflow: hidden;padding: 0;position: absolute;width: 1px;}#sk-container-id-5 div.sk-estimator {font-family: monospace;background-color: #f0f8ff;border: 1px dotted black;border-radius: 0.25em;box-sizing: border-box;margin-bottom: 0.5em;}#sk-container-id-5 div.sk-estimator:hover {background-color: #d4ebff;}#sk-container-id-5 div.sk-parallel-item::after {content: \"\";width: 100%;border-bottom: 1px solid gray;flex-grow: 1;}#sk-container-id-5 div.sk-label:hover label.sk-toggleable__label {background-color: #d4ebff;}#sk-container-id-5 div.sk-serial::before {content: \"\";position: absolute;border-left: 1px solid gray;box-sizing: border-box;top: 0;bottom: 0;left: 50%;z-index: 0;}#sk-container-id-5 div.sk-serial {display: flex;flex-direction: column;align-items: center;background-color: white;padding-right: 0.2em;padding-left: 0.2em;position: relative;}#sk-container-id-5 div.sk-item {position: relative;z-index: 1;}#sk-container-id-5 div.sk-parallel {display: flex;align-items: stretch;justify-content: center;background-color: white;position: relative;}#sk-container-id-5 div.sk-item::before, #sk-container-id-5 div.sk-parallel-item::before {content: \"\";position: absolute;border-left: 1px solid gray;box-sizing: border-box;top: 0;bottom: 0;left: 50%;z-index: -1;}#sk-container-id-5 div.sk-parallel-item {display: flex;flex-direction: column;z-index: 1;position: relative;background-color: white;}#sk-container-id-5 div.sk-parallel-item:first-child::after {align-self: flex-end;width: 50%;}#sk-container-id-5 div.sk-parallel-item:last-child::after {align-self: flex-start;width: 50%;}#sk-container-id-5 div.sk-parallel-item:only-child::after {width: 0;}#sk-container-id-5 div.sk-dashed-wrapped {border: 1px dashed gray;margin: 0 0.4em 0.5em 0.4em;box-sizing: border-box;padding-bottom: 0.4em;background-color: white;}#sk-container-id-5 div.sk-label label {font-family: monospace;font-weight: bold;display: inline-block;line-height: 1.2em;}#sk-container-id-5 div.sk-label-container {text-align: center;}#sk-container-id-5 div.sk-container {/* jupyter's `normalize.less` sets `[hidden] { display: none; }` but bootstrap.min.css set `[hidden] { display: none !important; }` so we also need the `!important` here to be able to override the default hidden behavior on the sphinx rendered scikit-learn.org. See: https://github.com/scikit-learn/scikit-learn/issues/21755 */display: inline-block !important;position: relative;}#sk-container-id-5 div.sk-text-repr-fallback {display: none;}</style><div id=\"sk-container-id-5\" class=\"sk-top-container\"><div class=\"sk-text-repr-fallback\"><pre>GridSearchCV(cv=5,\n",
              "             estimator=&lt;catboost.core.CatBoostRegressor object at 0x7f9887792770&gt;,\n",
              "             param_grid={&#x27;depth&#x27;: array([6, 7]), &#x27;l2_leaf_reg&#x27;: array([3, 4]),\n",
              "                         &#x27;learning_rate&#x27;: array([1.e-08, 1.e-07, 1.e-06, 1.e-05, 1.e-04, 1.e-03, 1.e-02, 1.e-01])},\n",
              "             scoring=&#x27;r2&#x27;, verbose=1)</pre><b>In a Jupyter environment, please rerun this cell to show the HTML representation or trust the notebook. <br />On GitHub, the HTML representation is unable to render, please try loading this page with nbviewer.org.</b></div><div class=\"sk-container\" hidden><div class=\"sk-item sk-dashed-wrapped\"><div class=\"sk-label-container\"><div class=\"sk-label sk-toggleable\"><input class=\"sk-toggleable__control sk-hidden--visually\" id=\"sk-estimator-id-13\" type=\"checkbox\" ><label for=\"sk-estimator-id-13\" class=\"sk-toggleable__label sk-toggleable__label-arrow\">GridSearchCV</label><div class=\"sk-toggleable__content\"><pre>GridSearchCV(cv=5,\n",
              "             estimator=&lt;catboost.core.CatBoostRegressor object at 0x7f9887792770&gt;,\n",
              "             param_grid={&#x27;depth&#x27;: array([6, 7]), &#x27;l2_leaf_reg&#x27;: array([3, 4]),\n",
              "                         &#x27;learning_rate&#x27;: array([1.e-08, 1.e-07, 1.e-06, 1.e-05, 1.e-04, 1.e-03, 1.e-02, 1.e-01])},\n",
              "             scoring=&#x27;r2&#x27;, verbose=1)</pre></div></div></div><div class=\"sk-parallel\"><div class=\"sk-parallel-item\"><div class=\"sk-item\"><div class=\"sk-label-container\"><div class=\"sk-label sk-toggleable\"><input class=\"sk-toggleable__control sk-hidden--visually\" id=\"sk-estimator-id-14\" type=\"checkbox\" ><label for=\"sk-estimator-id-14\" class=\"sk-toggleable__label sk-toggleable__label-arrow\">estimator: CatBoostRegressor</label><div class=\"sk-toggleable__content\"><pre>&lt;catboost.core.CatBoostRegressor object at 0x7f9887792770&gt;</pre></div></div></div><div class=\"sk-serial\"><div class=\"sk-item\"><div class=\"sk-estimator sk-toggleable\"><input class=\"sk-toggleable__control sk-hidden--visually\" id=\"sk-estimator-id-15\" type=\"checkbox\" ><label for=\"sk-estimator-id-15\" class=\"sk-toggleable__label sk-toggleable__label-arrow\">CatBoostRegressor</label><div class=\"sk-toggleable__content\"><pre>&lt;catboost.core.CatBoostRegressor object at 0x7f9887792770&gt;</pre></div></div></div></div></div></div></div></div></div></div>"
            ]
          },
          "metadata": {},
          "execution_count": 24
        }
      ],
      "source": [
        "model = CatBoostRegressor(iterations=400, verbose=False, task_type='GPU')\n",
        "GS = GridSearchCV(model, param_grid=param_grid, cv=5, scoring='r2', verbose=1)\n",
        "GS.fit(X_train, y_train)"
      ]
    },
    {
      "cell_type": "code",
      "execution_count": 25,
      "metadata": {
        "id": "Lbgkw7l1hUTa",
        "outputId": "7b092997-7755-4567-c2e1-7b6298442598",
        "colab": {
          "base_uri": "https://localhost:8080/"
        }
      },
      "outputs": [
        {
          "output_type": "execute_result",
          "data": {
            "text/plain": [
              "{'depth': 7, 'l2_leaf_reg': 4, 'learning_rate': 0.09999999999999999}"
            ]
          },
          "metadata": {},
          "execution_count": 25
        }
      ],
      "source": [
        "best_params = GS.best_params_\n",
        "best_params"
      ]
    },
    {
      "cell_type": "code",
      "execution_count": 26,
      "metadata": {
        "id": "VLufC2S6hUTa",
        "outputId": "77cf3e63-6175-4de7-e859-af127d569304",
        "colab": {
          "base_uri": "https://localhost:8080/"
        }
      },
      "outputs": [
        {
          "output_type": "stream",
          "name": "stderr",
          "text": [
            "Default metric period is 5 because R2 is/are not implemented for GPU\n",
            "Metric R2 is not implemented on GPU. Will use CPU for metric computation, this could significantly affect learning time\n"
          ]
        },
        {
          "output_type": "stream",
          "name": "stdout",
          "text": [
            "0:\tlearn: 0.0232699\ttest: -0.0071321\tbest: -0.0071321 (0)\ttotal: 25.2ms\tremaining: 4m 11s\n",
            "100:\tlearn: 0.5261388\ttest: -0.0548198\tbest: 0.0206299 (6)\ttotal: 1.44s\tremaining: 2m 20s\n",
            "200:\tlearn: 0.6762425\ttest: -0.0525657\tbest: 0.0206299 (6)\ttotal: 2.79s\tremaining: 2m 15s\n",
            "300:\tlearn: 0.7567838\ttest: -0.0503788\tbest: 0.0206299 (6)\ttotal: 5.72s\tremaining: 3m 4s\n",
            "400:\tlearn: 0.7983617\ttest: -0.0621824\tbest: 0.0206299 (6)\ttotal: 8.11s\tremaining: 3m 14s\n",
            "500:\tlearn: 0.8205678\ttest: -0.0722676\tbest: 0.0206299 (6)\ttotal: 9.42s\tremaining: 2m 58s\n",
            "600:\tlearn: 0.8368427\ttest: -0.0746081\tbest: 0.0206299 (6)\ttotal: 10.8s\tremaining: 2m 48s\n",
            "700:\tlearn: 0.8490583\ttest: -0.0755384\tbest: 0.0206299 (6)\ttotal: 12.1s\tremaining: 2m 40s\n",
            "800:\tlearn: 0.8637323\ttest: -0.0722407\tbest: 0.0206299 (6)\ttotal: 13.5s\tremaining: 2m 34s\n",
            "900:\tlearn: 0.8744123\ttest: -0.0747580\tbest: 0.0206299 (6)\ttotal: 14.8s\tremaining: 2m 29s\n",
            "1000:\tlearn: 0.8840183\ttest: -0.0683475\tbest: 0.0206299 (6)\ttotal: 16.1s\tremaining: 2m 24s\n",
            "bestTest = 0.02062986936\n",
            "bestIteration = 6\n",
            "Shrink model to first 7 iterations.\n"
          ]
        },
        {
          "output_type": "execute_result",
          "data": {
            "text/plain": [
              "<catboost.core.CatBoostRegressor at 0x7f98a05dfcd0>"
            ]
          },
          "metadata": {},
          "execution_count": 26
        }
      ],
      "source": [
        "model = CatBoostRegressor(iterations=10000,\n",
        "                          learning_rate=best_params['learning_rate'],\n",
        "                          depth=best_params['depth'],\n",
        "                          l2_leaf_reg=best_params['l2_leaf_reg'],\n",
        "                          eval_metric='R2', early_stopping_rounds=1000,\n",
        "                          verbose=100, task_type='GPU')\n",
        "model.fit(X_train, y_train, eval_set=(X_val, y_val))"
      ]
    },
    {
      "cell_type": "code",
      "execution_count": 27,
      "metadata": {
        "id": "z4leIBuhhUTa"
      },
      "outputs": [],
      "source": [
        "predict(model, 'QT')"
      ]
    },
    {
      "cell_type": "markdown",
      "metadata": {
        "id": "vJAW7fEdhUTa"
      },
      "source": [
        "### 4. CK"
      ]
    },
    {
      "cell_type": "code",
      "execution_count": 28,
      "metadata": {
        "id": "C_NHssJ9hUTb"
      },
      "outputs": [],
      "source": [
        "X_train, X_val, y_train, y_val = data_prep('CK')"
      ]
    },
    {
      "cell_type": "code",
      "execution_count": 29,
      "metadata": {
        "id": "f3u4CTl6hUTb",
        "outputId": "8bc1cba9-8a84-4c47-c97f-f332d6f7f742",
        "colab": {
          "base_uri": "https://localhost:8080/",
          "height": 658
        }
      },
      "outputs": [
        {
          "output_type": "stream",
          "name": "stdout",
          "text": [
            "Fitting 5 folds for each of 32 candidates, totalling 160 fits\n"
          ]
        },
        {
          "output_type": "stream",
          "name": "stderr",
          "text": [
            "/usr/local/lib/python3.10/dist-packages/sklearn/model_selection/_validation.py:378: FitFailedWarning: \n",
            "40 fits failed out of a total of 160.\n",
            "The score on these train-test partitions for these parameters will be set to nan.\n",
            "If these failures are not expected, you can try to debug them by setting error_score='raise'.\n",
            "\n",
            "Below are more details about the failures:\n",
            "--------------------------------------------------------------------------------\n",
            "40 fits failed with the following error:\n",
            "Traceback (most recent call last):\n",
            "  File \"/usr/local/lib/python3.10/dist-packages/sklearn/model_selection/_validation.py\", line 686, in _fit_and_score\n",
            "    estimator.fit(X_train, y_train, **fit_params)\n",
            "  File \"/usr/local/lib/python3.10/dist-packages/catboost/core.py\", line 5827, in fit\n",
            "    return self._fit(X, y, cat_features, text_features, embedding_features, None, sample_weight, None, None, None, None, baseline,\n",
            "  File \"/usr/local/lib/python3.10/dist-packages/catboost/core.py\", line 2385, in _fit\n",
            "    train_params = self._prepare_train_params(\n",
            "  File \"/usr/local/lib/python3.10/dist-packages/catboost/core.py\", line 2311, in _prepare_train_params\n",
            "    _check_train_params(params)\n",
            "  File \"_catboost.pyx\", line 6393, in _catboost._check_train_params\n",
            "  File \"_catboost.pyx\", line 6415, in _catboost._check_train_params\n",
            "_catboost.CatBoostError: /src/catboost/catboost/private/libs/options/boosting_options.cpp:79: Learning rate should be non-zero\n",
            "\n",
            "  warnings.warn(some_fits_failed_message, FitFailedWarning)\n",
            "/usr/local/lib/python3.10/dist-packages/sklearn/model_selection/_search.py:952: UserWarning: One or more of the test scores are non-finite: [        nan         nan -0.01943768 -0.01890062 -0.01366544  0.02809566\n",
            "  0.13514834  0.12899512         nan         nan -0.01943931 -0.01891647\n",
            " -0.01384033  0.02662302  0.1328135   0.12340311         nan         nan\n",
            " -0.01943516 -0.01887531 -0.01341823  0.0293054   0.13855469  0.13172887\n",
            "         nan         nan -0.01943789 -0.01890233 -0.01369418  0.02762919\n",
            "  0.13574994  0.13617409]\n",
            "  warnings.warn(\n"
          ]
        },
        {
          "output_type": "execute_result",
          "data": {
            "text/plain": [
              "GridSearchCV(cv=5,\n",
              "             estimator=<catboost.core.CatBoostRegressor object at 0x7f98702eb550>,\n",
              "             param_grid={'depth': array([6, 7]), 'l2_leaf_reg': array([3, 4]),\n",
              "                         'learning_rate': array([1.e-08, 1.e-07, 1.e-06, 1.e-05, 1.e-04, 1.e-03, 1.e-02, 1.e-01])},\n",
              "             scoring='r2', verbose=1)"
            ],
            "text/html": [
              "<style>#sk-container-id-6 {color: black;background-color: white;}#sk-container-id-6 pre{padding: 0;}#sk-container-id-6 div.sk-toggleable {background-color: white;}#sk-container-id-6 label.sk-toggleable__label {cursor: pointer;display: block;width: 100%;margin-bottom: 0;padding: 0.3em;box-sizing: border-box;text-align: center;}#sk-container-id-6 label.sk-toggleable__label-arrow:before {content: \"▸\";float: left;margin-right: 0.25em;color: #696969;}#sk-container-id-6 label.sk-toggleable__label-arrow:hover:before {color: black;}#sk-container-id-6 div.sk-estimator:hover label.sk-toggleable__label-arrow:before {color: black;}#sk-container-id-6 div.sk-toggleable__content {max-height: 0;max-width: 0;overflow: hidden;text-align: left;background-color: #f0f8ff;}#sk-container-id-6 div.sk-toggleable__content pre {margin: 0.2em;color: black;border-radius: 0.25em;background-color: #f0f8ff;}#sk-container-id-6 input.sk-toggleable__control:checked~div.sk-toggleable__content {max-height: 200px;max-width: 100%;overflow: auto;}#sk-container-id-6 input.sk-toggleable__control:checked~label.sk-toggleable__label-arrow:before {content: \"▾\";}#sk-container-id-6 div.sk-estimator input.sk-toggleable__control:checked~label.sk-toggleable__label {background-color: #d4ebff;}#sk-container-id-6 div.sk-label input.sk-toggleable__control:checked~label.sk-toggleable__label {background-color: #d4ebff;}#sk-container-id-6 input.sk-hidden--visually {border: 0;clip: rect(1px 1px 1px 1px);clip: rect(1px, 1px, 1px, 1px);height: 1px;margin: -1px;overflow: hidden;padding: 0;position: absolute;width: 1px;}#sk-container-id-6 div.sk-estimator {font-family: monospace;background-color: #f0f8ff;border: 1px dotted black;border-radius: 0.25em;box-sizing: border-box;margin-bottom: 0.5em;}#sk-container-id-6 div.sk-estimator:hover {background-color: #d4ebff;}#sk-container-id-6 div.sk-parallel-item::after {content: \"\";width: 100%;border-bottom: 1px solid gray;flex-grow: 1;}#sk-container-id-6 div.sk-label:hover label.sk-toggleable__label {background-color: #d4ebff;}#sk-container-id-6 div.sk-serial::before {content: \"\";position: absolute;border-left: 1px solid gray;box-sizing: border-box;top: 0;bottom: 0;left: 50%;z-index: 0;}#sk-container-id-6 div.sk-serial {display: flex;flex-direction: column;align-items: center;background-color: white;padding-right: 0.2em;padding-left: 0.2em;position: relative;}#sk-container-id-6 div.sk-item {position: relative;z-index: 1;}#sk-container-id-6 div.sk-parallel {display: flex;align-items: stretch;justify-content: center;background-color: white;position: relative;}#sk-container-id-6 div.sk-item::before, #sk-container-id-6 div.sk-parallel-item::before {content: \"\";position: absolute;border-left: 1px solid gray;box-sizing: border-box;top: 0;bottom: 0;left: 50%;z-index: -1;}#sk-container-id-6 div.sk-parallel-item {display: flex;flex-direction: column;z-index: 1;position: relative;background-color: white;}#sk-container-id-6 div.sk-parallel-item:first-child::after {align-self: flex-end;width: 50%;}#sk-container-id-6 div.sk-parallel-item:last-child::after {align-self: flex-start;width: 50%;}#sk-container-id-6 div.sk-parallel-item:only-child::after {width: 0;}#sk-container-id-6 div.sk-dashed-wrapped {border: 1px dashed gray;margin: 0 0.4em 0.5em 0.4em;box-sizing: border-box;padding-bottom: 0.4em;background-color: white;}#sk-container-id-6 div.sk-label label {font-family: monospace;font-weight: bold;display: inline-block;line-height: 1.2em;}#sk-container-id-6 div.sk-label-container {text-align: center;}#sk-container-id-6 div.sk-container {/* jupyter's `normalize.less` sets `[hidden] { display: none; }` but bootstrap.min.css set `[hidden] { display: none !important; }` so we also need the `!important` here to be able to override the default hidden behavior on the sphinx rendered scikit-learn.org. See: https://github.com/scikit-learn/scikit-learn/issues/21755 */display: inline-block !important;position: relative;}#sk-container-id-6 div.sk-text-repr-fallback {display: none;}</style><div id=\"sk-container-id-6\" class=\"sk-top-container\"><div class=\"sk-text-repr-fallback\"><pre>GridSearchCV(cv=5,\n",
              "             estimator=&lt;catboost.core.CatBoostRegressor object at 0x7f98702eb550&gt;,\n",
              "             param_grid={&#x27;depth&#x27;: array([6, 7]), &#x27;l2_leaf_reg&#x27;: array([3, 4]),\n",
              "                         &#x27;learning_rate&#x27;: array([1.e-08, 1.e-07, 1.e-06, 1.e-05, 1.e-04, 1.e-03, 1.e-02, 1.e-01])},\n",
              "             scoring=&#x27;r2&#x27;, verbose=1)</pre><b>In a Jupyter environment, please rerun this cell to show the HTML representation or trust the notebook. <br />On GitHub, the HTML representation is unable to render, please try loading this page with nbviewer.org.</b></div><div class=\"sk-container\" hidden><div class=\"sk-item sk-dashed-wrapped\"><div class=\"sk-label-container\"><div class=\"sk-label sk-toggleable\"><input class=\"sk-toggleable__control sk-hidden--visually\" id=\"sk-estimator-id-16\" type=\"checkbox\" ><label for=\"sk-estimator-id-16\" class=\"sk-toggleable__label sk-toggleable__label-arrow\">GridSearchCV</label><div class=\"sk-toggleable__content\"><pre>GridSearchCV(cv=5,\n",
              "             estimator=&lt;catboost.core.CatBoostRegressor object at 0x7f98702eb550&gt;,\n",
              "             param_grid={&#x27;depth&#x27;: array([6, 7]), &#x27;l2_leaf_reg&#x27;: array([3, 4]),\n",
              "                         &#x27;learning_rate&#x27;: array([1.e-08, 1.e-07, 1.e-06, 1.e-05, 1.e-04, 1.e-03, 1.e-02, 1.e-01])},\n",
              "             scoring=&#x27;r2&#x27;, verbose=1)</pre></div></div></div><div class=\"sk-parallel\"><div class=\"sk-parallel-item\"><div class=\"sk-item\"><div class=\"sk-label-container\"><div class=\"sk-label sk-toggleable\"><input class=\"sk-toggleable__control sk-hidden--visually\" id=\"sk-estimator-id-17\" type=\"checkbox\" ><label for=\"sk-estimator-id-17\" class=\"sk-toggleable__label sk-toggleable__label-arrow\">estimator: CatBoostRegressor</label><div class=\"sk-toggleable__content\"><pre>&lt;catboost.core.CatBoostRegressor object at 0x7f98702eb550&gt;</pre></div></div></div><div class=\"sk-serial\"><div class=\"sk-item\"><div class=\"sk-estimator sk-toggleable\"><input class=\"sk-toggleable__control sk-hidden--visually\" id=\"sk-estimator-id-18\" type=\"checkbox\" ><label for=\"sk-estimator-id-18\" class=\"sk-toggleable__label sk-toggleable__label-arrow\">CatBoostRegressor</label><div class=\"sk-toggleable__content\"><pre>&lt;catboost.core.CatBoostRegressor object at 0x7f98702eb550&gt;</pre></div></div></div></div></div></div></div></div></div></div>"
            ]
          },
          "metadata": {},
          "execution_count": 29
        }
      ],
      "source": [
        "model = CatBoostRegressor(iterations=400, verbose=False, task_type='GPU')\n",
        "GS = GridSearchCV(model, param_grid=param_grid, cv=5, scoring='r2', verbose=1)\n",
        "GS.fit(X_train, y_train)"
      ]
    },
    {
      "cell_type": "code",
      "execution_count": 30,
      "metadata": {
        "id": "Kd-N2t0_hUTb",
        "outputId": "059fac02-bfc6-4d5f-c9d5-f5d0e2e626d2",
        "colab": {
          "base_uri": "https://localhost:8080/"
        }
      },
      "outputs": [
        {
          "output_type": "execute_result",
          "data": {
            "text/plain": [
              "{'depth': 7, 'l2_leaf_reg': 3, 'learning_rate': 0.01}"
            ]
          },
          "metadata": {},
          "execution_count": 30
        }
      ],
      "source": [
        "best_params = GS.best_params_\n",
        "best_params"
      ]
    },
    {
      "cell_type": "code",
      "execution_count": 31,
      "metadata": {
        "id": "Ot-D0mXyhUTb",
        "outputId": "4cd6169a-6699-4631-b983-c19dbb3b4750",
        "colab": {
          "base_uri": "https://localhost:8080/"
        }
      },
      "outputs": [
        {
          "output_type": "stream",
          "name": "stderr",
          "text": [
            "Default metric period is 5 because R2 is/are not implemented for GPU\n",
            "Metric R2 is not implemented on GPU. Will use CPU for metric computation, this could significantly affect learning time\n"
          ]
        },
        {
          "output_type": "stream",
          "name": "stdout",
          "text": [
            "0:\tlearn: 0.0034791\ttest: -0.0466221\tbest: -0.0466221 (0)\ttotal: 25.1ms\tremaining: 4m 10s\n",
            "100:\tlearn: 0.1926743\ttest: 0.0756151\tbest: 0.0756151 (100)\ttotal: 1.46s\tremaining: 2m 23s\n",
            "200:\tlearn: 0.2897506\ttest: 0.1251442\tbest: 0.1251442 (200)\ttotal: 2.77s\tremaining: 2m 14s\n",
            "300:\tlearn: 0.3588620\ttest: 0.1577314\tbest: 0.1578408 (299)\ttotal: 4.03s\tremaining: 2m 9s\n",
            "400:\tlearn: 0.4072325\ttest: 0.1845837\tbest: 0.1845837 (400)\ttotal: 5.33s\tremaining: 2m 7s\n",
            "500:\tlearn: 0.4475313\ttest: 0.2053096\tbest: 0.2053096 (500)\ttotal: 6.59s\tremaining: 2m 4s\n",
            "600:\tlearn: 0.4810151\ttest: 0.2206822\tbest: 0.2206822 (600)\ttotal: 7.81s\tremaining: 2m 2s\n",
            "700:\tlearn: 0.5117178\ttest: 0.2356344\tbest: 0.2357028 (699)\ttotal: 9.59s\tremaining: 2m 7s\n",
            "800:\tlearn: 0.5390710\ttest: 0.2491566\tbest: 0.2504056 (794)\ttotal: 12.8s\tremaining: 2m 26s\n",
            "900:\tlearn: 0.5608435\ttest: 0.2549666\tbest: 0.2549666 (900)\ttotal: 14.1s\tremaining: 2m 22s\n",
            "1000:\tlearn: 0.5839723\ttest: 0.2626168\tbest: 0.2628097 (981)\ttotal: 15.5s\tremaining: 2m 18s\n",
            "1100:\tlearn: 0.6018839\ttest: 0.2666912\tbest: 0.2666912 (1100)\ttotal: 16.8s\tremaining: 2m 15s\n",
            "1200:\tlearn: 0.6197067\ttest: 0.2728277\tbest: 0.2728277 (1200)\ttotal: 18.1s\tremaining: 2m 12s\n",
            "1300:\tlearn: 0.6348425\ttest: 0.2758397\tbest: 0.2769782 (1268)\ttotal: 19.4s\tremaining: 2m 9s\n",
            "1400:\tlearn: 0.6465319\ttest: 0.2806816\tbest: 0.2806816 (1400)\ttotal: 20.7s\tremaining: 2m 7s\n",
            "1500:\tlearn: 0.6593253\ttest: 0.2835015\tbest: 0.2837802 (1495)\ttotal: 22s\tremaining: 2m 4s\n",
            "1600:\tlearn: 0.6723521\ttest: 0.2843747\tbest: 0.2858423 (1557)\ttotal: 23.7s\tremaining: 2m 4s\n",
            "1700:\tlearn: 0.6835005\ttest: 0.2851385\tbest: 0.2862406 (1663)\ttotal: 26.4s\tremaining: 2m 8s\n",
            "1800:\tlearn: 0.6938869\ttest: 0.2898048\tbest: 0.2898088 (1799)\ttotal: 28.6s\tremaining: 2m 10s\n",
            "1900:\tlearn: 0.7035649\ttest: 0.2934382\tbest: 0.2934382 (1900)\ttotal: 29.9s\tremaining: 2m 7s\n",
            "2000:\tlearn: 0.7116662\ttest: 0.2960571\tbest: 0.2960571 (2000)\ttotal: 31.2s\tremaining: 2m 4s\n",
            "2100:\tlearn: 0.7200691\ttest: 0.2962903\tbest: 0.2963659 (2098)\ttotal: 32.5s\tremaining: 2m 2s\n",
            "2200:\tlearn: 0.7267559\ttest: 0.2973616\tbest: 0.2980379 (2187)\ttotal: 33.8s\tremaining: 1m 59s\n",
            "2300:\tlearn: 0.7349386\ttest: 0.2973030\tbest: 0.2981612 (2262)\ttotal: 35.1s\tremaining: 1m 57s\n",
            "2400:\tlearn: 0.7416866\ttest: 0.2984933\tbest: 0.2994966 (2356)\ttotal: 36.4s\tremaining: 1m 55s\n",
            "2500:\tlearn: 0.7482046\ttest: 0.3001517\tbest: 0.3003297 (2480)\ttotal: 37.8s\tremaining: 1m 53s\n",
            "2600:\tlearn: 0.7544237\ttest: 0.3022346\tbest: 0.3022346 (2600)\ttotal: 40.9s\tremaining: 1m 56s\n",
            "2700:\tlearn: 0.7591366\ttest: 0.3031680\tbest: 0.3040926 (2683)\ttotal: 42.8s\tremaining: 1m 55s\n",
            "2800:\tlearn: 0.7652501\ttest: 0.3038407\tbest: 0.3050946 (2722)\ttotal: 44.1s\tremaining: 1m 53s\n",
            "2900:\tlearn: 0.7724765\ttest: 0.3070704\tbest: 0.3070704 (2900)\ttotal: 45.4s\tremaining: 1m 51s\n",
            "3000:\tlearn: 0.7770331\ttest: 0.3101353\tbest: 0.3102049 (2996)\ttotal: 46.7s\tremaining: 1m 48s\n",
            "3100:\tlearn: 0.7820294\ttest: 0.3097637\tbest: 0.3102940 (3010)\ttotal: 48s\tremaining: 1m 46s\n",
            "3200:\tlearn: 0.7868709\ttest: 0.3100858\tbest: 0.3102940 (3010)\ttotal: 49.3s\tremaining: 1m 44s\n",
            "3300:\tlearn: 0.7913079\ttest: 0.3084482\tbest: 0.3102940 (3010)\ttotal: 50.6s\tremaining: 1m 42s\n",
            "3400:\tlearn: 0.7954528\ttest: 0.3085243\tbest: 0.3102940 (3010)\ttotal: 51.9s\tremaining: 1m 40s\n",
            "3500:\tlearn: 0.8000440\ttest: 0.3092297\tbest: 0.3102940 (3010)\ttotal: 53.7s\tremaining: 1m 39s\n",
            "3600:\tlearn: 0.8039974\ttest: 0.3094195\tbest: 0.3102940 (3010)\ttotal: 56.2s\tremaining: 1m 39s\n",
            "3700:\tlearn: 0.8078642\ttest: 0.3101038\tbest: 0.3105692 (3683)\ttotal: 58.5s\tremaining: 1m 39s\n",
            "3800:\tlearn: 0.8118120\ttest: 0.3089398\tbest: 0.3105692 (3683)\ttotal: 59.8s\tremaining: 1m 37s\n",
            "3900:\tlearn: 0.8155666\ttest: 0.3082656\tbest: 0.3105692 (3683)\ttotal: 1m 1s\tremaining: 1m 35s\n",
            "4000:\tlearn: 0.8180372\ttest: 0.3089490\tbest: 0.3105692 (3683)\ttotal: 1m 2s\tremaining: 1m 33s\n",
            "4100:\tlearn: 0.8217480\ttest: 0.3071170\tbest: 0.3105692 (3683)\ttotal: 1m 3s\tremaining: 1m 31s\n",
            "4200:\tlearn: 0.8248266\ttest: 0.3087087\tbest: 0.3105692 (3683)\ttotal: 1m 5s\tremaining: 1m 29s\n",
            "4300:\tlearn: 0.8271580\ttest: 0.3087457\tbest: 0.3105692 (3683)\ttotal: 1m 6s\tremaining: 1m 27s\n",
            "4400:\tlearn: 0.8305934\ttest: 0.3093558\tbest: 0.3105692 (3683)\ttotal: 1m 7s\tremaining: 1m 26s\n",
            "4500:\tlearn: 0.8333479\ttest: 0.3088862\tbest: 0.3105692 (3683)\ttotal: 1m 10s\tremaining: 1m 25s\n",
            "4600:\tlearn: 0.8363390\ttest: 0.3090922\tbest: 0.3105692 (3683)\ttotal: 1m 12s\tremaining: 1m 25s\n",
            "bestTest = 0.3105691929\n",
            "bestIteration = 3683\n",
            "Shrink model to first 3684 iterations.\n"
          ]
        },
        {
          "output_type": "execute_result",
          "data": {
            "text/plain": [
              "<catboost.core.CatBoostRegressor at 0x7f98e9d4bdf0>"
            ]
          },
          "metadata": {},
          "execution_count": 31
        }
      ],
      "source": [
        "model = CatBoostRegressor(iterations=10000,\n",
        "                          learning_rate=best_params['learning_rate'],\n",
        "                          depth=best_params['depth'],\n",
        "                          l2_leaf_reg=best_params['l2_leaf_reg'],\n",
        "                          eval_metric='R2', early_stopping_rounds=1000,\n",
        "                          verbose=100, task_type='GPU')\n",
        "model.fit(X_train, y_train, eval_set=(X_val, y_val))"
      ]
    },
    {
      "cell_type": "code",
      "execution_count": 32,
      "metadata": {
        "id": "8YKHxbfBhUTb"
      },
      "outputs": [],
      "source": [
        "predict(model, 'CK')"
      ]
    }
  ],
  "metadata": {
    "kernelspec": {
      "display_name": "Python 3",
      "name": "python3"
    },
    "language_info": {
      "codemirror_mode": {
        "name": "ipython",
        "version": 3
      },
      "file_extension": ".py",
      "mimetype": "text/x-python",
      "name": "python",
      "nbconvert_exporter": "python",
      "pygments_lexer": "ipython3",
      "version": "3.12.3"
    },
    "colab": {
      "provenance": [],
      "gpuType": "T4",
      "include_colab_link": true
    },
    "accelerator": "GPU"
  },
  "nbformat": 4,
  "nbformat_minor": 0
}